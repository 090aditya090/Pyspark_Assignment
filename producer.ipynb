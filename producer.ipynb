{
 "cells": [
  {
   "cell_type": "code",
   "execution_count": null,
   "id": "795cb1f9",
   "metadata": {},
   "outputs": [],
   "source": [
    "import pandas as pd\n",
    "from kafka import KafkaProducer\n",
    "from time import sleep\n",
    "from json import dumps, loads\n",
    "import json"
   ]
  },
  {
   "cell_type": "code",
   "execution_count": null,
   "id": "548bd88e",
   "metadata": {},
   "outputs": [],
   "source": [
    "producer = KafkaProducer(bootstrap_servers = ['35.78.117.97:9092'],\n",
    "                        value_serializer = lambda x:dumps(x).encode('utf-8'))"
   ]
  },
  {
   "cell_type": "code",
   "execution_count": null,
   "id": "e12e0643",
   "metadata": {},
   "outputs": [],
   "source": [
    "caseDf = pd.read_csv(\"C:\\\\Users\\Aditya rajput\\Desktop\\dataset\\Case.csv\")"
   ]
  },
  {
   "cell_type": "code",
   "execution_count": null,
   "id": "d5b30326",
   "metadata": {},
   "outputs": [],
   "source": [
    "regionDf = pd.read_csv(\"C:\\\\Users\\Aditya rajput\\Desktop\\dataset\\Region.csv\")"
   ]
  },
  {
   "cell_type": "code",
   "execution_count": null,
   "id": "052f5951",
   "metadata": {},
   "outputs": [],
   "source": [
    "timeProvinceDf = pd.read_csv(\"C:\\\\Users\\Aditya rajput\\Desktop\\dataset\\TimeProvince.csv\")"
   ]
  },
  {
   "cell_type": "code",
   "execution_count": null,
   "id": "9be00961",
   "metadata": {},
   "outputs": [],
   "source": [
    "while True:\n",
    "    case_records = caseDf.sample(1).to_dict(orient = \"records\")\n",
    "    producer.send('case', value = case_records)\n",
    "    \n",
    "    region_records = regionDf.sample(1).to_dict(orient = \"records\")\n",
    "    producer.send('region', value = region_records)\n",
    "    \n",
    "    timeProvince_records = timeProvinceDf.sample(1).to_dict(orient = \"records\")    \n",
    "    producer.send('timeProvince', value = timeProvince_records)"
   ]
  },
  {
   "cell_type": "code",
   "execution_count": null,
   "id": "71ad73e0",
   "metadata": {},
   "outputs": [],
   "source": [
    "producer.flush()"
   ]
  }
 ],
 "metadata": {
  "kernelspec": {
   "display_name": "Python 3 (ipykernel)",
   "language": "python",
   "name": "python3"
  },
  "language_info": {
   "codemirror_mode": {
    "name": "ipython",
    "version": 3
   },
   "file_extension": ".py",
   "mimetype": "text/x-python",
   "name": "python",
   "nbconvert_exporter": "python",
   "pygments_lexer": "ipython3",
   "version": "3.7.4"
  }
 },
 "nbformat": 4,
 "nbformat_minor": 5
}
